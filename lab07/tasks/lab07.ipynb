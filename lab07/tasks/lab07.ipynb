{
 "cells": [
  {
   "cell_type": "code",
   "execution_count": 18,
   "id": "7919a7f9",
   "metadata": {},
   "outputs": [],
   "source": [
    "import string \n",
    "import random"
   ]
  },
  {
   "cell_type": "code",
   "execution_count": 19,
   "id": "445fcf6a",
   "metadata": {},
   "outputs": [],
   "source": [
    "\n",
    "def function1(text):\n",
    "    return ' '.join(hex(ord(i))[2:] for i in text)\n",
    "\n",
    "def function2(size):\n",
    "    return ''.join(random.choice(string.ascii_letters+string.digits) for _ in range(size))\n",
    "                   \n",
    "def function3(text,key):\n",
    "    return ''.join(chr(a^b) for a,b in zip (text,key))\n",
    "                    \n",
    "def function4(text,encrypt):\n",
    "    return ''.join(chr(a^b) for a,b in zip (text, encrypt))"
   ]
  },
  {
   "cell_type": "code",
   "execution_count": 20,
   "id": "d3a24dad",
   "metadata": {},
   "outputs": [
    {
     "name": "stdout",
     "output_type": "stream",
     "text": [
      "Используем ключ:  zDgLWqM1zyRg6zxGNuveI9\n",
      "Ключ в шестнадцатиричном виде:  7a 44 67 4c 57 71 4d 31 7a 79 52 67 36 7a 78 47 4e 75 76 65 49 39\n",
      "Зашифрованное сообщение:  45b 64 45a 472 465 43a 471 11 469 447 466 459 40a 56 58 473 40e 436 441 429 406 18\n",
      "Расшифрованное сообщение:  С новым Годом, друзья!\n"
     ]
    }
   ],
   "source": [
    "message = 'С новым Годом, друзья!'\n",
    "key = function2(len(message))\n",
    "hex_key = function1(key)\n",
    "print(\"Используем ключ: \", key)\n",
    "print(\"Ключ в шестнадцатиричном виде: \", hex_key)\n",
    "encrypt = function3([ord(i) for i in message], [ord(i) for i in key])\n",
    "hex_encrypt = function1(encrypt)\n",
    "print(\"Зашифрованное сообщение: \", hex_encrypt)\n",
    "decrypt = function3([ord(i) for i in encrypt], [ord(i) for i in key])\n",
    "print(\"Расшифрованное сообщение: \", decrypt)"
   ]
  },
  {
   "cell_type": "code",
   "execution_count": 23,
   "id": "5eaffefa",
   "metadata": {},
   "outputs": [
    {
     "name": "stdout",
     "output_type": "stream",
     "text": [
      "Исходный ключ:  zDgLWqM1zyRg6zxGNuveI9\n",
      "Вариант прочтения открытого текста:  С новым Годом, друзья!\n"
     ]
    }
   ],
   "source": [
    "compute_key = function4([ord(i) for i in message], [ord(i) for i in encrypt])\n",
    "decrypt_compute_key = function3([ord(i) for i in encrypt], [ord(i) for i in key])\n",
    "print(\"Исходный ключ: \", key)\n",
    "print(\"Вариант прочтения открытого текста: \", decrypt_compute_key)"
   ]
  },
  {
   "cell_type": "code",
   "execution_count": null,
   "id": "2385f1c2",
   "metadata": {},
   "outputs": [],
   "source": []
  },
  {
   "cell_type": "code",
   "execution_count": null,
   "id": "2082faca",
   "metadata": {},
   "outputs": [],
   "source": []
  }
 ],
 "metadata": {
  "kernelspec": {
   "display_name": "Python 3",
   "language": "python",
   "name": "python3"
  },
  "language_info": {
   "codemirror_mode": {
    "name": "ipython",
    "version": 3
   },
   "file_extension": ".py",
   "mimetype": "text/x-python",
   "name": "python",
   "nbconvert_exporter": "python",
   "pygments_lexer": "ipython3",
   "version": "3.8.8"
  }
 },
 "nbformat": 4,
 "nbformat_minor": 5
}
