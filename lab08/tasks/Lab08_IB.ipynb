{
 "cells": [
  {
   "cell_type": "code",
   "execution_count": 20,
   "id": "5b56ca03",
   "metadata": {},
   "outputs": [],
   "source": [
    "import string\n",
    "import random"
   ]
  },
  {
   "cell_type": "code",
   "execution_count": 21,
   "id": "28272032",
   "metadata": {},
   "outputs": [],
   "source": [
    "def hexx(text):\n",
    "    return ' '.join(hex(ord(i))[2:] for i in text)\n",
    "def gen_key(size):\n",
    "    return ''.join(random.choice(string.ascii_letters + string.digits) for _ in range(size))\n",
    "\n",
    "def encrypted(firstText,secondText):\n",
    "    first_text=[ord(i) for i in firstText]\n",
    "    second_text=[ord(i) for i in secondText]\n",
    "    return ''.join(chr (a^b) for a,b in zip(first_text,second_text))"
   ]
  },
  {
   "cell_type": "code",
   "execution_count": 22,
   "id": "8d36384a",
   "metadata": {},
   "outputs": [
    {
     "name": "stdout",
     "output_type": "stream",
     "text": [
      "DRMYSqBmFZbxB4KY2mdp\n",
      "Ключ в шестнадцатиричном виде:  44 52 4d 59 53 71 42 6d 46 5a 62 78 42 34 4b 59 32 6d 64 70\n",
      "Шифрованный текст:  љѢџѩЛщЃШѸѮЭбѺЍѵЛ\u0003_TD\n",
      "Шифрованный текст:  іѳѸѫѦбѿЦѿОњуѺЄѰшЂѐўр\n",
      "Расфрованный текст:  НаВашисходящийот1204\n",
      "Расфрованный текст:  ВСеверныйфилиалБанка\n"
     ]
    }
   ],
   "source": [
    "P1 = \"НаВашисходящийот1204\"\n",
    "P2 = \"ВСеверныйфилиалБанка\"\n",
    "\n",
    "key=gen_key(len(P1))\n",
    "print(key)\n",
    "hex_key=hexx(key)\n",
    "print(\"Ключ в шестнадцатиричном виде: \",hex_key)\n",
    "\n",
    "C1= encrypted(P1,key)\n",
    "C2= encrypted(P2,key)\n",
    "\n",
    "print(\"Шифрованный текст: \",C1)\n",
    "print(\"Шифрованный текст: \",C2)\n",
    "\n",
    "decrypt=encrypted(C1,C2)\n",
    "print(\"Расфрованный текст: \",encrypted(decrypt,P2) )\n",
    "print(\"Расфрованный текст: \",encrypted(decrypt,P1) )"
   ]
  },
  {
   "cell_type": "code",
   "execution_count": null,
   "id": "08b7d088",
   "metadata": {},
   "outputs": [],
   "source": []
  }
 ],
 "metadata": {
  "kernelspec": {
   "display_name": "Python 3",
   "language": "python",
   "name": "python3"
  },
  "language_info": {
   "codemirror_mode": {
    "name": "ipython",
    "version": 3
   },
   "file_extension": ".py",
   "mimetype": "text/x-python",
   "name": "python",
   "nbconvert_exporter": "python",
   "pygments_lexer": "ipython3",
   "version": "3.8.8"
  }
 },
 "nbformat": 4,
 "nbformat_minor": 5
}
